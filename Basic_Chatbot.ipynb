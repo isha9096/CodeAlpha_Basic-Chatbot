{
 "cells": [
  {
   "cell_type": "code",
   "execution_count": 1,
   "id": "662bfa5d-571f-434b-aced-8c44ea061790",
   "metadata": {},
   "outputs": [
    {
     "name": "stdout",
     "output_type": "stream",
     "text": [
      "Welcome! I'm a chatbot. You can start chatting with me or type 'quit' to end the conversation.\n"
     ]
    },
    {
     "name": "stdin",
     "output_type": "stream",
     "text": [
      "You:  hello\n"
     ]
    },
    {
     "name": "stdout",
     "output_type": "stream",
     "text": [
      "Chatbot: Hello!\n"
     ]
    },
    {
     "name": "stdin",
     "output_type": "stream",
     "text": [
      "You:  how are you\n"
     ]
    },
    {
     "name": "stdout",
     "output_type": "stream",
     "text": [
      "Chatbot: I'm fine, thanks for asking.\n"
     ]
    },
    {
     "name": "stdin",
     "output_type": "stream",
     "text": [
      "You:  your name\n"
     ]
    },
    {
     "name": "stdout",
     "output_type": "stream",
     "text": [
      "Chatbot: None\n"
     ]
    },
    {
     "name": "stdin",
     "output_type": "stream",
     "text": [
      "You:  what can you do?\n"
     ]
    },
    {
     "name": "stdout",
     "output_type": "stream",
     "text": [
      "Chatbot: I am here to chat with you.\n"
     ]
    },
    {
     "name": "stdin",
     "output_type": "stream",
     "text": [
      "You:  quit\n"
     ]
    },
    {
     "name": "stdout",
     "output_type": "stream",
     "text": [
      "Chatbot: Goodbye!\n"
     ]
    }
   ],
   "source": [
    "import nltk\n",
    "import random\n",
    "from nltk.chat.util import Chat, reflections\n",
    "\n",
    "# Define some patterns and responses\n",
    "patterns = [\n",
    "    (r'hi|hello|hey', ['Hello!', 'Hey there!', 'Hi!']),\n",
    "    (r'how are you?', ['I am doing well, thank you!', 'I\\'m fine, thanks for asking.', 'I\\'m good, how about you?']),\n",
    "    (r'(.*) your name?', ['My name is Chatbot.', 'I go by Chatbot.', 'You can call me Chatbot.']),\n",
    "    (r'(.*) (age|old) are you?', ['I\\'m just a program, I don\\'t have an age.', 'Age is just a number for me.']),\n",
    "    (r'what can you do?', ['I can have conversations with you!', 'I am here to chat with you.', 'I\\'m a chatbot, I can talk with you.']),\n",
    "    (r'quit', ['Bye! Take care.', 'Goodbye!']),\n",
    "]\n",
    "\n",
    "# Create a chatbot\n",
    "chatbot = Chat(patterns, reflections)\n",
    "\n",
    "# Start conversation\n",
    "print(\"Welcome! I'm a chatbot. You can start chatting with me or type 'quit' to end the conversation.\")\n",
    "while True:\n",
    "    user_input = input(\"You: \")\n",
    "    response = chatbot.respond(user_input)\n",
    "    print(\"Chatbot:\", response)\n",
    "    if user_input.lower() == 'quit':\n",
    "        break\n"
   ]
  },
  {
   "cell_type": "code",
   "execution_count": null,
   "id": "de62be37-cf3f-4f69-b7dd-8273d186048a",
   "metadata": {},
   "outputs": [],
   "source": []
  }
 ],
 "metadata": {
  "kernelspec": {
   "display_name": "Python 3 (ipykernel)",
   "language": "python",
   "name": "python3"
  },
  "language_info": {
   "codemirror_mode": {
    "name": "ipython",
    "version": 3
   },
   "file_extension": ".py",
   "mimetype": "text/x-python",
   "name": "python",
   "nbconvert_exporter": "python",
   "pygments_lexer": "ipython3",
   "version": "3.11.2"
  }
 },
 "nbformat": 4,
 "nbformat_minor": 5
}
